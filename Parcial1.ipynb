{
 "cells": [
  {
   "cell_type": "markdown",
   "metadata": {},
   "source": [
    "Importaciones"
   ]
  },
  {
   "cell_type": "code",
   "execution_count": null,
   "metadata": {},
   "outputs": [],
   "source": [
    "import numpy as np\n",
    "import matplotlib.pyplot as plt\n",
    "from numpy.polynomial.polynomial import Polynomial"
   ]
  },
  {
   "cell_type": "markdown",
   "metadata": {},
   "source": [
    "Leer los datos"
   ]
  },
  {
   "cell_type": "code",
   "execution_count": null,
   "metadata": {},
   "outputs": [],
   "source": [
    "# Función para leer datos desde un archivo txt con formato \"x y\"\n",
    "def ReadData(filename):\n",
    "    x_data, y_data = [], []\n",
    "    with open(filename, \"r\") as file:\n",
    "        for line in file:\n",
    "            x_val, y_val = map(float, line.split())  # Separa valores por espacios\n",
    "            x_data.append(x_val)\n",
    "            y_data.append(y_val)\n",
    "    return np.array(x_data), np.array(y_data)\n",
    "\n",
    "# Leer datos desde el archivo\n",
    "x, y = ReadData(\"Datos_Taller_2_B.txt\")  # Archivo con valores de x e y en columnas"
   ]
  },
  {
   "cell_type": "markdown",
   "metadata": {},
   "source": [
    "Apartado a"
   ]
  },
  {
   "cell_type": "code",
   "execution_count": null,
   "metadata": {},
   "outputs": [],
   "source": [
    "def lagrange_interpolation(x_data, y_data, x_interp):\n",
    "    def basis(j, x_point):\n",
    "        term = [(x_point - x_data[m]) / (x_data[j] - x_data[m]) for m in range(len(x_data)) if m != j]\n",
    "        return np.prod(term, axis=0)\n",
    "    return sum(y_data[j] * basis(j, x_interp) for j in range(len(x_data)))\n",
    "\n",
    "x_interp = np.linspace(min(x), max(x), 100)\n",
    "y_interp = lagrange_interpolation(x, y, x_interp)\n",
    "\n",
    "plt.plot(x_interp, y_interp, label='Interpolación de Lagrange')\n",
    "plt.scatter(x, y, color='red', label='Datos')\n",
    "plt.legend()\n",
    "plt.show()"
   ]
  },
  {
   "cell_type": "markdown",
   "metadata": {},
   "source": [
    "Apartado b"
   ]
  },
  {
   "cell_type": "code",
   "execution_count": null,
   "metadata": {},
   "outputs": [],
   "source": [
    "def cubic_spline_interpolation(x_data, y_data, x_interp):\n",
    "    p = Polynomial.fit(x_data, y_data, deg=min(len(x_data)-1, 3))\n",
    "    return p(x_interp)\n",
    "\n",
    "y_spline = cubic_spline_interpolation(x, y, x_interp)\n",
    "\n",
    "plt.plot(x_interp, y_spline, label='Interpolación cúbica')\n",
    "plt.scatter(x, y, color='red', label='Datos')\n",
    "plt.legend()\n",
    "plt.show()"
   ]
  },
  {
   "cell_type": "markdown",
   "metadata": {},
   "source": [
    "Apartado c"
   ]
  },
  {
   "cell_type": "code",
   "execution_count": null,
   "metadata": {},
   "outputs": [],
   "source": [
    "for degree in range(1, 5):\n",
    "    coeffs = np.polyfit(x, y, degree)\n",
    "    poly_func = np.poly1d(coeffs)\n",
    "    y_fit = poly_func(x_interp)\n",
    "    plt.plot(x_interp, y_fit, label=f'Polinomio grado {degree}')\n",
    "\n",
    "plt.scatter(x, y, color='red', label='Datos')\n",
    "plt.legend()\n",
    "plt.show()\n",
    "\n",
    "# Transformación logarítmica y = a0 * x^a1 -> log(y) = log(a0) + a1 * log(x)\n",
    "x_log = np.log(x)\n",
    "y_log = np.log(y)\n",
    "coeffs_log = np.polyfit(x_log, y_log, 1)\n",
    "y_transformed = np.exp(coeffs_log[1]) * x_interp ** coeffs_log[0]\n",
    "\n",
    "plt.plot(x_interp, y_transformed, label='Transformación logarítmica')\n",
    "plt.scatter(x, y, color='red', label='Datos')\n",
    "plt.legend()\n",
    "plt.show()"
   ]
  },
  {
   "cell_type": "markdown",
   "metadata": {},
   "source": [
    "Apartado d"
   ]
  },
  {
   "cell_type": "code",
   "execution_count": null,
   "metadata": {},
   "outputs": [],
   "source": [
    "def model_1(x, a0, a1, a2):\n",
    "    return a0 - a1 * np.exp(-a2 * x)\n",
    "\n",
    "def model_2(x, a0, a1, a2):\n",
    "    return a0 * x - a1 * np.exp(-a2 * x)\n",
    "\n",
    "def model_3(x, a0, a1, a2):\n",
    "    return a0 * x**2 - a1 * np.exp(-a2 * x)\n",
    "\n",
    "plt.plot(x_interp, model_1(x_interp, 10, 5, 0.5), label='Modelo 1')\n",
    "plt.plot(x_interp, model_2(x_interp, 2, 5, 0.5), label='Modelo 2')\n",
    "plt.plot(x_interp, model_3(x_interp, 1, 5, 0.5), label='Modelo 3')\n",
    "plt.scatter(x, y, color='red', label='Datos')\n",
    "plt.legend()\n",
    "plt.show()"
   ]
  }
 ],
 "metadata": {
  "kernelspec": {
   "display_name": "Python 3",
   "language": "python",
   "name": "python3"
  },
  "language_info": {
   "name": "python",
   "version": "3.11.9"
  }
 },
 "nbformat": 4,
 "nbformat_minor": 2
}
